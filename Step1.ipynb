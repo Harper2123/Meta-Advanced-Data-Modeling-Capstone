{
 "cells": [
  {
   "attachments": {},
   "cell_type": "markdown",
   "metadata": {},
   "source": [
    "# Task 1"
   ]
  },
  {
   "attachments": {},
   "cell_type": "markdown",
   "metadata": {},
   "source": [
    "In this task, we are supposed to develop an ER diagram for the given scenario.\n",
    "\n",
    "The task can be divided into three parts:-\n",
    "\n",
    "i) Create a high level conceptual data model<br>\n",
    "ii) Design a logical ER diagram<br>\n",
    "iii) Apply the three fundamental forms of normalization"
   ]
  },
  {
   "attachments": {},
   "cell_type": "markdown",
   "metadata": {},
   "source": [
    "### High level conceptual data model"
   ]
  },
  {
   "attachments": {},
   "cell_type": "markdown",
   "metadata": {},
   "source": [
    "The entities in the data model will be:-\n",
    "\n",
    "i) Customers<br>\n",
    "ii) Orders<br>\n",
    "iii) Products<br>\n",
    "iv) Address<br>\n",
    "\n",
    "The data model will look like:-\n",
    "\n",
    "![Alt text](conceptual%20data%20model.PNG)"
   ]
  },
  {
   "attachments": {},
   "cell_type": "markdown",
   "metadata": {},
   "source": [
    "### ER Diagram"
   ]
  },
  {
   "attachments": {},
   "cell_type": "markdown",
   "metadata": {},
   "source": [
    "Now we will design a logical ER diagram for the given scenario in MySQL Workbench.<br>\n",
    "\n",
    "The ER diagram will look like:-<br>\n",
    "![Alt text](ER-diagram.png)"
   ]
  },
  {
   "attachments": {},
   "cell_type": "markdown",
   "metadata": {},
   "source": [
    "Now it can be seen that the ER diagram is in 3NF. Now we will proceed to Task 2."
   ]
  }
 ],
 "metadata": {
  "kernelspec": {
   "display_name": "Python 3",
   "language": "python",
   "name": "python3"
  },
  "language_info": {
   "name": "python",
   "version": "3.6.8"
  },
  "orig_nbformat": 4,
  "vscode": {
   "interpreter": {
    "hash": "3744bcd8b7a82386c61414b604126308c5f973c9727c198e4c4436009fe9fe32"
   }
  }
 },
 "nbformat": 4,
 "nbformat_minor": 2
}
