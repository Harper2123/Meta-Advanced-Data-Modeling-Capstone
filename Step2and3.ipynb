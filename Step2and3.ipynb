{
 "cells": [
  {
   "attachments": {},
   "cell_type": "markdown",
   "metadata": {},
   "source": [
    "# Task 2"
   ]
  },
  {
   "attachments": {},
   "cell_type": "markdown",
   "metadata": {},
   "source": [
    "In step 1, we were able to create an ER Diagram for the given scenario.<br><br>\n",
    "The ER Diagram is as follows:<br>\n",
    "![Alt text](ER-diagram.png)"
   ]
  },
  {
   "attachments": {},
   "cell_type": "markdown",
   "metadata": {},
   "source": [
    "Now, we will use the forward engineering technique to deploy the physical data model.<br>The required steps are as follows:<br>\n",
    "i) Select the Database tab in the top menu bar.<br>\n",
    "ii) Click on the Forward Engineering button.<br>\n",
    "iii) Fill the required details.<br>\n",
    "iv) Click on Next.<br>\n",
    "v) Let the default settings be as they are and proceed till you reach Reiew SQL Script.<br>\n",
    "vi) Click on Next.<br>\n",
    "vii) The required physical data model is created.<br>\n",
    "viii) Click on Close.<br><br>\n",
    "The physical data model is as follows:<br>\n",
    "![Alt text](Physical-data-model.PNG)"
   ]
  },
  {
   "attachments": {},
   "cell_type": "markdown",
   "metadata": {},
   "source": [
    "# Task 3"
   ]
  },
  {
   "attachments": {},
   "cell_type": "markdown",
   "metadata": {},
   "source": [
    "Now we will draw the Star Schema for the given scenario.<br><br>We will use SALES as the fact table having the following attributes:<br><br>\n",
    "i) SalesKey<br>\n",
    "ii) Price<br>\n",
    "iii) Quantity<br>\n",
    "iv) Cost<br>\n",
    "v) Shipping<br>\n",
    "vi) LocationKey<br>\n",
    "vii) ProductKey<br>\n",
    "viii) TimeKey<br><br>\n",
    "The dimension tables are as follows:<br><br>\n",
    "i) LOCATION having the following attributes:<br><br>\n",
    "&nbsp;&nbsp;a) LocationKey<br>\n",
    "&nbsp;&nbsp;b) City<br>\n",
    "&nbsp;&nbsp;c) Country<br>\n",
    "&nbsp;&nbsp;d) Continent<br><br>\n",
    "ii) PRODUCTS having the following attributes:<br><br>\n",
    "&nbsp;&nbsp;a) ProductKey<br>\n",
    "&nbsp;&nbsp;b) ProductName<br>\n",
    "&nbsp;&nbsp;c) Category<br>\n",
    "&nbsp;&nbsp;d) SubCategory<br>\n",
    "&nbsp;&nbsp;e) Description<br><br>\n",
    "iii) TIME having the following attributes:<br><br>\n",
    "&nbsp;&nbsp;a) TimeKey<br>\n",
    "&nbsp;&nbsp;b) FullDate<br>\n",
    "&nbsp;&nbsp;c) Year<br>\n",
    "&nbsp;&nbsp;d) Quarter<br>\n",
    "&nbsp;&nbsp;e) Month<br>\n",
    "&nbsp;&nbsp;f) Event<br><br>\n",
    "The Star Schema is as follows:<br><br>\n",
    "![Alt text](star-schema.PNG)"
   ]
  }
 ],
 "metadata": {
  "kernelspec": {
   "display_name": "Python 3",
   "language": "python",
   "name": "python3"
  },
  "language_info": {
   "name": "python",
   "version": "3.6.8"
  },
  "orig_nbformat": 4,
  "vscode": {
   "interpreter": {
    "hash": "3744bcd8b7a82386c61414b604126308c5f973c9727c198e4c4436009fe9fe32"
   }
  }
 },
 "nbformat": 4,
 "nbformat_minor": 2
}
